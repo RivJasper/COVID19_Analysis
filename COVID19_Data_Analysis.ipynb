{
 "cells": [
  {
   "attachments": {},
   "cell_type": "markdown",
   "metadata": {},
   "source": [
    "# COVID-19 Data Analysis"
   ]
  },
  {
   "attachments": {},
   "cell_type": "markdown",
   "metadata": {},
   "source": [
    "## Working Area"
   ]
  },
  {
   "cell_type": "markdown",
   "metadata": {},
   "source": [
    "### Impoting Libraries\n",
    "`Every library will have its own alias to simplify the code`"
   ]
  },
  {
   "cell_type": "code",
   "execution_count": 30,
   "metadata": {},
   "outputs": [],
   "source": [
    "# Pandas will be named as pd, and NumPy will be named as np\n",
    "import pandas as pd\n",
    "import numpy as np"
   ]
  },
  {
   "cell_type": "markdown",
   "metadata": {},
   "source": [
    "### Data Loading\n",
    "`Data that had taken from BigQuery prior will be imported`"
   ]
  },
  {
   "cell_type": "code",
   "execution_count": 31,
   "metadata": {},
   "outputs": [],
   "source": [
    "# Data Frame will be imported using Pandas and will be named as df\n",
    "df = pd.read_csv('COVID19_Data_Analysis.csv')"
   ]
  },
  {
   "cell_type": "markdown",
   "metadata": {},
   "source": [
    "### Data Cleaning & Data Exploration"
   ]
  },
  {
   "cell_type": "code",
   "execution_count": 32,
   "metadata": {},
   "outputs": [
    {
     "data": {
      "text/plain": [
       "province_state     1565\n",
       "country_region        0\n",
       "date                  0\n",
       "latitude            795\n",
       "longitude           795\n",
       "location_geom       795\n",
       "confirmed             0\n",
       "deaths                0\n",
       "recovered         21590\n",
       "active            21622\n",
       "fips               6346\n",
       "admin2             6316\n",
       "combined_key         23\n",
       "dtype: int64"
      ]
     },
     "execution_count": 32,
     "metadata": {},
     "output_type": "execute_result"
    }
   ],
   "source": [
    "# Obtaining the total number of empty cells for every column\n",
    "df.isnull().sum()"
   ]
  },
  {
   "cell_type": "code",
   "execution_count": 33,
   "metadata": {},
   "outputs": [],
   "source": [
    "# Remove all unrelated columns\n",
    "df = df.drop(columns = ['province_state','latitude','longitude','location_geom','fips','admin2','combined_key'])\n",
    "# Rename column to make it more understandable\n",
    "df.rename(columns = {'country_region' : 'country', 'confirmed' : 'total confirmed', 'deaths' : 'total death', 'recovered' : 'total recovered'}, inplace = True)"
   ]
  },
  {
   "cell_type": "code",
   "execution_count": 34,
   "metadata": {},
   "outputs": [
    {
     "data": {
      "text/plain": [
       "country             0\n",
       "date                0\n",
       "total confirmed     0\n",
       "total death         0\n",
       "total recovered     0\n",
       "active             32\n",
       "dtype: int64"
      ]
     },
     "execution_count": 34,
     "metadata": {},
     "output_type": "execute_result"
    }
   ],
   "source": [
    "# Because confirmed, deaths, recovered, and active data are related to each other. Therefore, every row with over than 2 null cells will be removed\n",
    "df = df[df.isnull().sum(axis=1) < 2]\n",
    "df.isnull().sum()"
   ]
  },
  {
   "cell_type": "code",
   "execution_count": 35,
   "metadata": {},
   "outputs": [
    {
     "name": "stdout",
     "output_type": "stream",
     "text": [
      "country            0\n",
      "date               0\n",
      "total confirmed    0\n",
      "total death        0\n",
      "total recovered    0\n",
      "active             0\n",
      "dtype: int64\n",
      "country             object\n",
      "date                object\n",
      "total confirmed      int64\n",
      "total death          int64\n",
      "total recovered    float64\n",
      "active             float64\n",
      "dtype: object\n"
     ]
    }
   ],
   "source": [
    "# Because the only column with null value is 'active' column, therefore only 1 column needs to be manipulated\n",
    "# Since total confirmed = total deaths + total recovered + active, therefore the equation will be used for data manipulation\n",
    "# Every 'people' data which has a value bellow 0 will be terminated\n",
    "df.drop(df[df['total confirmed'] < 0 ].index, inplace = True)\n",
    "df.drop(df[df['total death'] < 0 ].index, inplace = True)\n",
    "df.drop(df[df['total recovered'] < 0 ].index, inplace = True)\n",
    "df.drop(df[df['active'] < 0 ].index, inplace = True)\n",
    "df['active'] = df['total confirmed'] - df['total death'] - df['total recovered']\n",
    "df.drop(df[df['total confirmed'] != df['total death'] + df['total recovered'] + df['active']].index, inplace = True)\n",
    "# Checking the total number of empty cells\n",
    "print(df.isnull().sum())\n",
    "# Obtaining the data type of each column\n",
    "print(df.dtypes)"
   ]
  },
  {
   "cell_type": "code",
   "execution_count": 36,
   "metadata": {},
   "outputs": [
    {
     "name": "stdout",
     "output_type": "stream",
     "text": [
      "country                    object\n",
      "date               datetime64[ns]\n",
      "total confirmed             int64\n",
      "total death                 int64\n",
      "total recovered             int32\n",
      "active                      int32\n",
      "dtype: object\n"
     ]
    }
   ],
   "source": [
    "# Convert the date into date time format\n",
    "df['date'] = df['date'].astype('datetime64[ns]')\n",
    "# Because the number of 'people' shall be in integer number, therefore every column with number of people data will be converted to integer number\n",
    "df['total recovered'] = df['total recovered'].astype(int)\n",
    "df['active'] = df['active'].astype(int)\n",
    "# Checking the data type of each column\n",
    "print(df.dtypes)"
   ]
  },
  {
   "cell_type": "code",
   "execution_count": 37,
   "metadata": {},
   "outputs": [
    {
     "name": "stdout",
     "output_type": "stream",
     "text": [
      "Total countries = [196]\n",
      "Total rows = [12761]\n",
      "country\n",
      "US                 9917\n",
      "Russia              331\n",
      "Japan               216\n",
      "Colombia            148\n",
      "China               133\n",
      "                   ... \n",
      "Palau                 1\n",
      "Hungary               1\n",
      "Botswana              1\n",
      "Solomon Islands       1\n",
      "Bangladesh            1\n",
      "Length: 196, dtype: int64\n"
     ]
    }
   ],
   "source": [
    "# Obtain the number of countries and number of rows\n",
    "print('Total countries =',df.shape[0:1] - df['country'].duplicated().sum())\n",
    "print('Total rows =' , np.array(df.shape)[0:1])\n",
    "# Calculate the amount of data for every country\n",
    "print(df.pivot_table(columns=['country'], aggfunc='size').sort_values(ascending = False))"
   ]
  },
  {
   "cell_type": "code",
   "execution_count": 38,
   "metadata": {},
   "outputs": [],
   "source": [
    "# Combine every data with same date in order to obtain the world's daily data\n",
    "df_world = df.sort_values('date').groupby(['date']).sum().reset_index()\n",
    "df_world['fatal rate (%)'] = (df_world['total death'] / df_world['total confirmed']) * 100\n",
    "df_world['recover rate (%)'] = (df_world['total recovered'] / df_world['total confirmed']) * 100"
   ]
  },
  {
   "cell_type": "code",
   "execution_count": 39,
   "metadata": {},
   "outputs": [
    {
     "data": {
      "text/html": [
       "<div>\n",
       "<style scoped>\n",
       "    .dataframe tbody tr th:only-of-type {\n",
       "        vertical-align: middle;\n",
       "    }\n",
       "\n",
       "    .dataframe tbody tr th {\n",
       "        vertical-align: top;\n",
       "    }\n",
       "\n",
       "    .dataframe thead th {\n",
       "        text-align: right;\n",
       "    }\n",
       "</style>\n",
       "<table border=\"1\" class=\"dataframe\">\n",
       "  <thead>\n",
       "    <tr style=\"text-align: right;\">\n",
       "      <th></th>\n",
       "      <th>date</th>\n",
       "      <th>total confirmed</th>\n",
       "      <th>total death</th>\n",
       "      <th>total recovered</th>\n",
       "      <th>active</th>\n",
       "      <th>fatal rate (%)</th>\n",
       "      <th>recover rate (%)</th>\n",
       "    </tr>\n",
       "  </thead>\n",
       "  <tbody>\n",
       "    <tr>\n",
       "      <th>0</th>\n",
       "      <td>2020-02-15</td>\n",
       "      <td>3528</td>\n",
       "      <td>12</td>\n",
       "      <td>1003</td>\n",
       "      <td>2513</td>\n",
       "      <td>0.340136</td>\n",
       "      <td>28.429705</td>\n",
       "    </tr>\n",
       "    <tr>\n",
       "      <th>1</th>\n",
       "      <td>2020-05-02</td>\n",
       "      <td>1132219</td>\n",
       "      <td>85853</td>\n",
       "      <td>339951</td>\n",
       "      <td>706415</td>\n",
       "      <td>7.582720</td>\n",
       "      <td>30.025198</td>\n",
       "    </tr>\n",
       "    <tr>\n",
       "      <th>2</th>\n",
       "      <td>2020-06-07</td>\n",
       "      <td>2712090</td>\n",
       "      <td>164712</td>\n",
       "      <td>906338</td>\n",
       "      <td>1641040</td>\n",
       "      <td>6.073250</td>\n",
       "      <td>33.418434</td>\n",
       "    </tr>\n",
       "    <tr>\n",
       "      <th>3</th>\n",
       "      <td>2020-06-20</td>\n",
       "      <td>2462743</td>\n",
       "      <td>110960</td>\n",
       "      <td>1075224</td>\n",
       "      <td>1276559</td>\n",
       "      <td>4.505545</td>\n",
       "      <td>43.659610</td>\n",
       "    </tr>\n",
       "    <tr>\n",
       "      <th>4</th>\n",
       "      <td>2020-07-09</td>\n",
       "      <td>4275593</td>\n",
       "      <td>219274</td>\n",
       "      <td>1537376</td>\n",
       "      <td>2518943</td>\n",
       "      <td>5.128505</td>\n",
       "      <td>35.957024</td>\n",
       "    </tr>\n",
       "    <tr>\n",
       "      <th>5</th>\n",
       "      <td>2020-07-22</td>\n",
       "      <td>3922390</td>\n",
       "      <td>130031</td>\n",
       "      <td>2048902</td>\n",
       "      <td>1743457</td>\n",
       "      <td>3.315096</td>\n",
       "      <td>52.236060</td>\n",
       "    </tr>\n",
       "    <tr>\n",
       "      <th>6</th>\n",
       "      <td>2020-09-20</td>\n",
       "      <td>9381538</td>\n",
       "      <td>279752</td>\n",
       "      <td>5096241</td>\n",
       "      <td>4005545</td>\n",
       "      <td>2.981942</td>\n",
       "      <td>54.322021</td>\n",
       "    </tr>\n",
       "    <tr>\n",
       "      <th>7</th>\n",
       "      <td>2020-10-09</td>\n",
       "      <td>13703931</td>\n",
       "      <td>374312</td>\n",
       "      <td>8169760</td>\n",
       "      <td>5159859</td>\n",
       "      <td>2.731421</td>\n",
       "      <td>59.616179</td>\n",
       "    </tr>\n",
       "    <tr>\n",
       "      <th>8</th>\n",
       "      <td>2020-12-20</td>\n",
       "      <td>21924277</td>\n",
       "      <td>489937</td>\n",
       "      <td>11471617</td>\n",
       "      <td>9962723</td>\n",
       "      <td>2.234678</td>\n",
       "      <td>52.323810</td>\n",
       "    </tr>\n",
       "    <tr>\n",
       "      <th>9</th>\n",
       "      <td>2021-01-04</td>\n",
       "      <td>30465464</td>\n",
       "      <td>655469</td>\n",
       "      <td>16776114</td>\n",
       "      <td>13033881</td>\n",
       "      <td>2.151515</td>\n",
       "      <td>55.066005</td>\n",
       "    </tr>\n",
       "    <tr>\n",
       "      <th>10</th>\n",
       "      <td>2021-01-20</td>\n",
       "      <td>30256672</td>\n",
       "      <td>677204</td>\n",
       "      <td>17002950</td>\n",
       "      <td>12576518</td>\n",
       "      <td>2.238197</td>\n",
       "      <td>56.195705</td>\n",
       "    </tr>\n",
       "    <tr>\n",
       "      <th>11</th>\n",
       "      <td>2021-04-18</td>\n",
       "      <td>42494971</td>\n",
       "      <td>934864</td>\n",
       "      <td>30446012</td>\n",
       "      <td>11114095</td>\n",
       "      <td>2.199940</td>\n",
       "      <td>71.646153</td>\n",
       "    </tr>\n",
       "    <tr>\n",
       "      <th>12</th>\n",
       "      <td>2021-04-30</td>\n",
       "      <td>35716456</td>\n",
       "      <td>750853</td>\n",
       "      <td>29571954</td>\n",
       "      <td>5393649</td>\n",
       "      <td>2.102261</td>\n",
       "      <td>82.796440</td>\n",
       "    </tr>\n",
       "    <tr>\n",
       "      <th>13</th>\n",
       "      <td>2021-07-27</td>\n",
       "      <td>40905419</td>\n",
       "      <td>981656</td>\n",
       "      <td>31741098</td>\n",
       "      <td>8182665</td>\n",
       "      <td>2.399819</td>\n",
       "      <td>77.596316</td>\n",
       "    </tr>\n",
       "  </tbody>\n",
       "</table>\n",
       "</div>"
      ],
      "text/plain": [
       "         date  total confirmed  total death  total recovered    active  \\\n",
       "0  2020-02-15             3528           12             1003      2513   \n",
       "1  2020-05-02          1132219        85853           339951    706415   \n",
       "2  2020-06-07          2712090       164712           906338   1641040   \n",
       "3  2020-06-20          2462743       110960          1075224   1276559   \n",
       "4  2020-07-09          4275593       219274          1537376   2518943   \n",
       "5  2020-07-22          3922390       130031          2048902   1743457   \n",
       "6  2020-09-20          9381538       279752          5096241   4005545   \n",
       "7  2020-10-09         13703931       374312          8169760   5159859   \n",
       "8  2020-12-20         21924277       489937         11471617   9962723   \n",
       "9  2021-01-04         30465464       655469         16776114  13033881   \n",
       "10 2021-01-20         30256672       677204         17002950  12576518   \n",
       "11 2021-04-18         42494971       934864         30446012  11114095   \n",
       "12 2021-04-30         35716456       750853         29571954   5393649   \n",
       "13 2021-07-27         40905419       981656         31741098   8182665   \n",
       "\n",
       "    fatal rate (%)  recover rate (%)  \n",
       "0         0.340136         28.429705  \n",
       "1         7.582720         30.025198  \n",
       "2         6.073250         33.418434  \n",
       "3         4.505545         43.659610  \n",
       "4         5.128505         35.957024  \n",
       "5         3.315096         52.236060  \n",
       "6         2.981942         54.322021  \n",
       "7         2.731421         59.616179  \n",
       "8         2.234678         52.323810  \n",
       "9         2.151515         55.066005  \n",
       "10        2.238197         56.195705  \n",
       "11        2.199940         71.646153  \n",
       "12        2.102261         82.796440  \n",
       "13        2.399819         77.596316  "
      ]
     },
     "execution_count": 39,
     "metadata": {},
     "output_type": "execute_result"
    }
   ],
   "source": [
    "# Brief check of world data\n",
    "df_world"
   ]
  },
  {
   "cell_type": "code",
   "execution_count": 41,
   "metadata": {},
   "outputs": [
    {
     "name": "stdout",
     "output_type": "stream",
     "text": [
      "World daily case report\n"
     ]
    },
    {
     "data": {
      "image/png": "[encoded data removed]",
      "text/plain": [
       "<Figure size 432x288 with 1 Axes>"
      ]
     },
     "metadata": {
      "needs_background": "light"
     },
     "output_type": "display_data"
    }
   ],
   "source": [
    "# Plotting World daily case report\n",
    "df_world.plot(kind = 'line', x = 'date', y =['total confirmed','total death','total recovered', 'active'])\n",
    "print('World daily case report')"
   ]
  },
  {
   "cell_type": "code",
   "execution_count": 44,
   "metadata": {},
   "outputs": [
    {
     "name": "stdout",
     "output_type": "stream",
     "text": [
      "World COVID 19 fatal rate compared to recover rate\n"
     ]
    },
    {
     "data": {
      "image/png": "[encoded data removed]",
      "text/plain": [
       "<Figure size 432x288 with 1 Axes>"
      ]
     },
     "metadata": {
      "needs_background": "light"
     },
     "output_type": "display_data"
    }
   ],
   "source": [
    "# Plotting World COVID 19 fatal rate compared to recover rate\n",
    "df_world.plot(kind = 'line', x = 'date', y =['fatal rate (%)','recover rate (%)'])\n",
    "print('World COVID 19 fatal rate compared to recover rate')"
   ]
  },
  {
   "cell_type": "code",
   "execution_count": 46,
   "metadata": {},
   "outputs": [
    {
     "data": {
      "text/html": [
       "<style type=\"text/css\">\n",
       "#T_2eda0_row0_col0, #T_2eda0_row1_col1, #T_2eda0_row2_col2, #T_2eda0_row3_col3, #T_2eda0_row4_col4, #T_2eda0_row5_col5 {\n",
       "  background-color: #b40426;\n",
       "  color: #f1f1f1;\n",
       "}\n",
       "#T_2eda0_row0_col1, #T_2eda0_row1_col0 {\n",
       "  background-color: #b50927;\n",
       "  color: #f1f1f1;\n",
       "}\n",
       "#T_2eda0_row0_col2, #T_2eda0_row2_col0 {\n",
       "  background-color: #b8122a;\n",
       "  color: #f1f1f1;\n",
       "}\n",
       "#T_2eda0_row0_col3 {\n",
       "  background-color: #d85646;\n",
       "  color: #f1f1f1;\n",
       "}\n",
       "#T_2eda0_row0_col4, #T_2eda0_row4_col0, #T_2eda0_row4_col1, #T_2eda0_row4_col2, #T_2eda0_row4_col3, #T_2eda0_row4_col5 {\n",
       "  background-color: #3b4cc0;\n",
       "  color: #f1f1f1;\n",
       "}\n",
       "#T_2eda0_row0_col5, #T_2eda0_row1_col5, #T_2eda0_row5_col0 {\n",
       "  background-color: #d24b40;\n",
       "  color: #f1f1f1;\n",
       "}\n",
       "#T_2eda0_row1_col2, #T_2eda0_row2_col1 {\n",
       "  background-color: #ba162b;\n",
       "  color: #f1f1f1;\n",
       "}\n",
       "#T_2eda0_row1_col3 {\n",
       "  background-color: #da5a49;\n",
       "  color: #f1f1f1;\n",
       "}\n",
       "#T_2eda0_row1_col4 {\n",
       "  background-color: #465ecf;\n",
       "  color: #f1f1f1;\n",
       "}\n",
       "#T_2eda0_row2_col3, #T_2eda0_row3_col2 {\n",
       "  background-color: #ec8165;\n",
       "  color: #f1f1f1;\n",
       "}\n",
       "#T_2eda0_row2_col4 {\n",
       "  background-color: #3f53c6;\n",
       "  color: #f1f1f1;\n",
       "}\n",
       "#T_2eda0_row2_col5, #T_2eda0_row5_col2 {\n",
       "  background-color: #cb3e38;\n",
       "  color: #f1f1f1;\n",
       "}\n",
       "#T_2eda0_row3_col0 {\n",
       "  background-color: #d75445;\n",
       "  color: #f1f1f1;\n",
       "}\n",
       "#T_2eda0_row3_col1 {\n",
       "  background-color: #dc5d4a;\n",
       "  color: #f1f1f1;\n",
       "}\n",
       "#T_2eda0_row3_col4 {\n",
       "  background-color: #4055c8;\n",
       "  color: #f1f1f1;\n",
       "}\n",
       "#T_2eda0_row3_col5 {\n",
       "  background-color: #f5a081;\n",
       "  color: #000000;\n",
       "}\n",
       "#T_2eda0_row5_col1 {\n",
       "  background-color: #d44e41;\n",
       "  color: #f1f1f1;\n",
       "}\n",
       "#T_2eda0_row5_col3 {\n",
       "  background-color: #f6a283;\n",
       "  color: #000000;\n",
       "}\n",
       "#T_2eda0_row5_col4 {\n",
       "  background-color: #3c4ec2;\n",
       "  color: #f1f1f1;\n",
       "}\n",
       "</style>\n",
       "<table id=\"T_2eda0\">\n",
       "  <thead>\n",
       "    <tr>\n",
       "      <th class=\"blank level0\" >&nbsp;</th>\n",
       "      <th id=\"T_2eda0_level0_col0\" class=\"col_heading level0 col0\" >total confirmed</th>\n",
       "      <th id=\"T_2eda0_level0_col1\" class=\"col_heading level0 col1\" >total death</th>\n",
       "      <th id=\"T_2eda0_level0_col2\" class=\"col_heading level0 col2\" >total recovered</th>\n",
       "      <th id=\"T_2eda0_level0_col3\" class=\"col_heading level0 col3\" >active</th>\n",
       "      <th id=\"T_2eda0_level0_col4\" class=\"col_heading level0 col4\" >fatal rate (%)</th>\n",
       "      <th id=\"T_2eda0_level0_col5\" class=\"col_heading level0 col5\" >recover rate (%)</th>\n",
       "    </tr>\n",
       "  </thead>\n",
       "  <tbody>\n",
       "    <tr>\n",
       "      <th id=\"T_2eda0_level0_row0\" class=\"row_heading level0 row0\" >total confirmed</th>\n",
       "      <td id=\"T_2eda0_row0_col0\" class=\"data row0 col0\" >1.000000</td>\n",
       "      <td id=\"T_2eda0_row0_col1\" class=\"data row0 col1\" >0.992119</td>\n",
       "      <td id=\"T_2eda0_row0_col2\" class=\"data row0 col2\" >0.978592</td>\n",
       "      <td id=\"T_2eda0_row0_col3\" class=\"data row0 col3\" >0.844178</td>\n",
       "      <td id=\"T_2eda0_row0_col4\" class=\"data row0 col4\" >-0.508551</td>\n",
       "      <td id=\"T_2eda0_row0_col5\" class=\"data row0 col5\" >0.870023</td>\n",
       "    </tr>\n",
       "    <tr>\n",
       "      <th id=\"T_2eda0_level0_row1\" class=\"row_heading level0 row1\" >total death</th>\n",
       "      <td id=\"T_2eda0_row1_col0\" class=\"data row1 col0\" >0.992119</td>\n",
       "      <td id=\"T_2eda0_row1_col1\" class=\"data row1 col1\" >1.000000</td>\n",
       "      <td id=\"T_2eda0_row1_col2\" class=\"data row1 col2\" >0.973745</td>\n",
       "      <td id=\"T_2eda0_row1_col3\" class=\"data row1 col3\" >0.828954</td>\n",
       "      <td id=\"T_2eda0_row1_col4\" class=\"data row1 col4\" >-0.448667</td>\n",
       "      <td id=\"T_2eda0_row1_col5\" class=\"data row1 col5\" >0.869141</td>\n",
       "    </tr>\n",
       "    <tr>\n",
       "      <th id=\"T_2eda0_level0_row2\" class=\"row_heading level0 row2\" >total recovered</th>\n",
       "      <td id=\"T_2eda0_row2_col0\" class=\"data row2 col0\" >0.978592</td>\n",
       "      <td id=\"T_2eda0_row2_col1\" class=\"data row2 col1\" >0.973745</td>\n",
       "      <td id=\"T_2eda0_row2_col2\" class=\"data row2 col2\" >1.000000</td>\n",
       "      <td id=\"T_2eda0_row2_col3\" class=\"data row2 col3\" >0.715795</td>\n",
       "      <td id=\"T_2eda0_row2_col4\" class=\"data row2 col4\" >-0.481391</td>\n",
       "      <td id=\"T_2eda0_row2_col5\" class=\"data row2 col5\" >0.903658</td>\n",
       "    </tr>\n",
       "    <tr>\n",
       "      <th id=\"T_2eda0_level0_row3\" class=\"row_heading level0 row3\" >active</th>\n",
       "      <td id=\"T_2eda0_row3_col0\" class=\"data row3 col0\" >0.844178</td>\n",
       "      <td id=\"T_2eda0_row3_col1\" class=\"data row3 col1\" >0.828954</td>\n",
       "      <td id=\"T_2eda0_row3_col2\" class=\"data row3 col2\" >0.715795</td>\n",
       "      <td id=\"T_2eda0_row3_col3\" class=\"data row3 col3\" >1.000000</td>\n",
       "      <td id=\"T_2eda0_row3_col4\" class=\"data row3 col4\" >-0.475598</td>\n",
       "      <td id=\"T_2eda0_row3_col5\" class=\"data row3 col5\" >0.598178</td>\n",
       "    </tr>\n",
       "    <tr>\n",
       "      <th id=\"T_2eda0_level0_row4\" class=\"row_heading level0 row4\" >fatal rate (%)</th>\n",
       "      <td id=\"T_2eda0_row4_col0\" class=\"data row4 col0\" >-0.508551</td>\n",
       "      <td id=\"T_2eda0_row4_col1\" class=\"data row4 col1\" >-0.448667</td>\n",
       "      <td id=\"T_2eda0_row4_col2\" class=\"data row4 col2\" >-0.481391</td>\n",
       "      <td id=\"T_2eda0_row4_col3\" class=\"data row4 col3\" >-0.475598</td>\n",
       "      <td id=\"T_2eda0_row4_col4\" class=\"data row4 col4\" >1.000000</td>\n",
       "      <td id=\"T_2eda0_row4_col5\" class=\"data row4 col5\" >-0.497658</td>\n",
       "    </tr>\n",
       "    <tr>\n",
       "      <th id=\"T_2eda0_level0_row5\" class=\"row_heading level0 row5\" >recover rate (%)</th>\n",
       "      <td id=\"T_2eda0_row5_col0\" class=\"data row5 col0\" >0.870023</td>\n",
       "      <td id=\"T_2eda0_row5_col1\" class=\"data row5 col1\" >0.869141</td>\n",
       "      <td id=\"T_2eda0_row5_col2\" class=\"data row5 col2\" >0.903658</td>\n",
       "      <td id=\"T_2eda0_row5_col3\" class=\"data row5 col3\" >0.598178</td>\n",
       "      <td id=\"T_2eda0_row5_col4\" class=\"data row5 col4\" >-0.497658</td>\n",
       "      <td id=\"T_2eda0_row5_col5\" class=\"data row5 col5\" >1.000000</td>\n",
       "    </tr>\n",
       "  </tbody>\n",
       "</table>\n"
      ],
      "text/plain": [
       "<pandas.io.formats.style.Styler at 0x19a89a5bf70>"
      ]
     },
     "execution_count": 46,
     "metadata": {},
     "output_type": "execute_result"
    }
   ],
   "source": [
    "# Printing correlation between columns\n",
    "df_world.corr().style.background_gradient(cmap='coolwarm')"
   ]
  },
  {
   "cell_type": "code",
   "execution_count": 67,
   "metadata": {},
   "outputs": [
    {
     "name": "stdout",
     "output_type": "stream",
     "text": [
      "1007    29.036895\n",
      "Name: fatal rate (%), dtype: float64\n",
      "1007   2020-12-20\n",
      "Name: date, dtype: datetime64[ns]\n",
      "1007    Yemen\n",
      "Name: country, dtype: object\n"
     ]
    }
   ],
   "source": [
    "# Creating dataframe that contains data from every region\n",
    "df_country = df.sort_values('date').groupby(['country' , 'date']).sum().reset_index()\n",
    "df_country['fatal rate (%)'] = (df_country['total death'] / df_country['total confirmed']) * 100\n",
    "df_country['recover rate (%)'] = (df_country['total recovered'] / df_country['total confirmed']) * 100"
   ]
  },
  {
   "cell_type": "code",
   "execution_count": 69,
   "metadata": {},
   "outputs": [
    {
     "name": "stdout",
     "output_type": "stream",
     "text": [
      "1007    29.036895\n",
      "Name: fatal rate (%), dtype: float64\n",
      "1007   2020-12-20\n",
      "Name: date, dtype: datetime64[ns]\n",
      "1007    Yemen\n",
      "Name: country, dtype: object\n"
     ]
    }
   ],
   "source": [
    "# Showing country with the highest fatal rate (%)\n",
    "print(df_country[df_country['fatal rate (%)'] == df_country.max()[6]]['fatal rate (%)'])\n",
    "print(df_country[df_country['fatal rate (%)'] == df_country.max()[6]]['date'])\n",
    "print(df_country[df_country['fatal rate (%)'] == df_country.max()[6]]['country'])"
   ]
  },
  {
   "cell_type": "code",
   "execution_count": 75,
   "metadata": {},
   "outputs": [
    {
     "name": "stdout",
     "output_type": "stream",
     "text": [
      "39     100.0\n",
      "153    100.0\n",
      "259    100.0\n",
      "277    100.0\n",
      "316    100.0\n",
      "317    100.0\n",
      "328    100.0\n",
      "370    100.0\n",
      "371    100.0\n",
      "372    100.0\n",
      "402    100.0\n",
      "403    100.0\n",
      "508    100.0\n",
      "586    100.0\n",
      "587    100.0\n",
      "607    100.0\n",
      "770    100.0\n",
      "774    100.0\n",
      "780    100.0\n",
      "781    100.0\n",
      "784    100.0\n",
      "785    100.0\n",
      "811    100.0\n",
      "846    100.0\n",
      "908    100.0\n",
      "909    100.0\n",
      "985    100.0\n",
      "986    100.0\n",
      "Name: recover rate (%), dtype: float64\n",
      "39                            Australia\n",
      "153                            Cambodia\n",
      "259                             Denmark\n",
      "277                            Dominica\n",
      "316                                Fiji\n",
      "317                                Fiji\n",
      "328                              France\n",
      "370                             Grenada\n",
      "371                             Grenada\n",
      "372                             Grenada\n",
      "402                            Holy See\n",
      "403                            Holy See\n",
      "508                                Laos\n",
      "586                    Marshall Islands\n",
      "587                    Marshall Islands\n",
      "607                          Micronesia\n",
      "770               Saint Kitts and Nevis\n",
      "774               Saint Kitts and Nevis\n",
      "780    Saint Vincent and the Grenadines\n",
      "781    Saint Vincent and the Grenadines\n",
      "784                               Samoa\n",
      "785                               Samoa\n",
      "811                          Seychelles\n",
      "846                               Spain\n",
      "908                         Timor-Leste\n",
      "909                         Timor-Leste\n",
      "985                             Vanuatu\n",
      "986                             Vanuatu\n",
      "Name: country, dtype: object\n"
     ]
    }
   ],
   "source": [
    "# Showing country with the highest recover rate (%)\n",
    "print(df_country[df_country['recover rate (%)'] == df_country.max()[7]]['recover rate (%)'])\n",
    "print(df_country[df_country['recover rate (%)'] == df_country.max()[7]]['country'])"
   ]
  },
  {
   "cell_type": "markdown",
   "metadata": {},
   "source": [
    "## Conclusions, Assumptions, Overall Analysis\n",
    "\n",
    "### Assumptions\n",
    "- `Every row that has more than 1 zero cell in column total confirmed, total death, total recovered, and active will be considered as unvalid data`\n",
    "- `Every row that contains negative values will be considered as unvalid data`\n",
    "- `Every row that does not satisfy the balance equation \"total confirmed = total death + total recovered + active\" will be considered as unvalid data`\n",
    "- `Every unvalid data will be terminated`\n",
    "- `Due to lack of skills, every forecasting data method eg: interpolation, extrapolation, regression, ext. will not perform`\n",
    "\n",
    "### Conclusions\n",
    "- `US dominating the whole data`\n",
    "- `the number of recovered people never less than the number of death people due to COVID 19`\n",
    "- `fatal rate always moving in the opposite direction for every data`\n",
    "- `country with the highest fatal rate is Yemen, with 29.036895% at 2020-12-20`\n",
    "- `country with the highest recover rate is:`\n",
    "<br> Australia\n",
    "<br> Cambodia\n",
    "<br> Denmark\n",
    "<br> Dominica\n",
    "<br> Fiji\n",
    "<br> France\n",
    "<br> Grenada\n",
    "<br> Holy See\n",
    "<br> Laos\n",
    "<br> Marshall Islands\n",
    "<br> Micronesia\n",
    "<br> Saint Kitts and Nevis\n",
    "<br> Saint Vincent and the Grenadines\n",
    "<br> Samoa\n",
    "<br> Seychelles\n",
    "<br> Spain\n",
    "<br> Timor-Leste\n",
    "<br> Vanuatu\n",
    "<br> `with 100% of recover rate`\n"
   ]
  }
 ],
 "metadata": {
  "kernelspec": {
   "display_name": "Python 3.9.12 ('base')",
   "language": "python",
   "name": "python3"
  },
  "language_info": {
   "codemirror_mode": {
    "name": "ipython",
    "version": 3
   },
   "file_extension": ".py",
   "mimetype": "text/x-python",
   "name": "python",
   "nbconvert_exporter": "python",
   "pygments_lexer": "ipython3",
   "version": "3.9.13 (main, Aug 25 2022, 23:51:50) [MSC v.1916 64 bit (AMD64)]"
  },
  "orig_nbformat": 4,
  "vscode": {
   "interpreter": {
    "hash": "db73a3f725d25edc1898cf086846c00279f921a2aff9b8dd881a6ae47174c5ed"
   }
  }
 },
 "nbformat": 4,
 "nbformat_minor": 2
}
